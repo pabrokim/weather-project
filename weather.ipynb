{
 "cells": [
  {
   "cell_type": "code",
   "execution_count": 53,
   "metadata": {},
   "outputs": [],
   "source": [
    "import pandas as pd\n",
    "import matplotlib.pyplot as plt"
   ]
  },
  {
   "cell_type": "code",
   "execution_count": 110,
   "metadata": {},
   "outputs": [],
   "source": [
    "def wrangle(file):\n",
    "    try:\n",
    "        #read file into dataframe\n",
    "        df = pd.read_csv(file)\n",
    "        #collinear and high_cardinal features\n",
    "        cols_to_drop = ['Data.Temperature.Max Temp', 'Data.Temperature.Min Temp', 'Data.Wind.Direction','Date.Month', 'Date.Week of', 'Date.Year']\n",
    "        #drop collinear and high_cardinal features\n",
    "        df.drop(columns=[col for col in cols_to_drop if col in df.columns], inplace=True)\n",
    "        #drop categorical features\n",
    "        df.drop(columns=(df.select_dtypes('object').columns), inplace=True)  \n",
    "        #rename columns for readability\n",
    "        column_dict = {\n",
    "            'Data.Precipitation':'precipitation',\n",
    "            'Data.Temperature.Avg Temp': 'temperature',\n",
    "            'Data.Wind.Speed': 'wind'\n",
    "        } \n",
    "        \n",
    "        df.rename(columns=column_dict, inplace=True)\n",
    "        #reorder columns\n",
    "        df = df[['wind', 'temperature', 'precipitation']]\n",
    "\n",
    "        #remove wind outliers\n",
    "        low, high = df['wind'].quantile([0.06,0.98])#iqr*1.5\n",
    "        mask_wind = df['wind'].between(low,high)\n",
    "\n",
    "        #remove temp outliers\n",
    "        low_1, high_1 = df['temperature'].quantile([0.00165,1.0])#iqr*1.5\n",
    "        mask_temp = df['temperature'].between(low_1, high_1)\n",
    "\n",
    "        #remove prec outliers\n",
    "\n",
    "        low_2, high_2 = df['precipitation'].quantile([0.82,0.923])#iqr*1.5\n",
    "        mask_prec = df['precipitation'].between(low_2, high_2)\n",
    "\n",
    "\n",
    "        df = df[mask_wind & mask_temp & mask_prec]\n",
    "\n",
    "\n",
    "        return df\n",
    "        \n",
    "    except FileNotFoundError:\n",
    "        print(f\"Error: The file '{file}' was not found.\")"
   ]
  },
  {
   "cell_type": "code",
   "execution_count": 108,
   "metadata": {},
   "outputs": [
    {
     "data": {
      "text/html": [
       "<div>\n",
       "<style scoped>\n",
       "    .dataframe tbody tr th:only-of-type {\n",
       "        vertical-align: middle;\n",
       "    }\n",
       "\n",
       "    .dataframe tbody tr th {\n",
       "        vertical-align: top;\n",
       "    }\n",
       "\n",
       "    .dataframe thead th {\n",
       "        text-align: right;\n",
       "    }\n",
       "</style>\n",
       "<table border=\"1\" class=\"dataframe\">\n",
       "  <thead>\n",
       "    <tr style=\"text-align: right;\">\n",
       "      <th></th>\n",
       "      <th>wind</th>\n",
       "      <th>temperature</th>\n",
       "      <th>precipitation</th>\n",
       "    </tr>\n",
       "  </thead>\n",
       "  <tbody>\n",
       "    <tr>\n",
       "      <th>count</th>\n",
       "      <td>1665.000000</td>\n",
       "      <td>1665.000000</td>\n",
       "      <td>1665.000000</td>\n",
       "    </tr>\n",
       "    <tr>\n",
       "      <th>mean</th>\n",
       "      <td>6.437532</td>\n",
       "      <td>58.425826</td>\n",
       "      <td>1.419712</td>\n",
       "    </tr>\n",
       "    <tr>\n",
       "      <th>std</th>\n",
       "      <td>2.425967</td>\n",
       "      <td>16.672451</td>\n",
       "      <td>0.235775</td>\n",
       "    </tr>\n",
       "    <tr>\n",
       "      <th>min</th>\n",
       "      <td>2.000000</td>\n",
       "      <td>5.000000</td>\n",
       "      <td>1.070000</td>\n",
       "    </tr>\n",
       "    <tr>\n",
       "      <th>25%</th>\n",
       "      <td>4.700000</td>\n",
       "      <td>46.000000</td>\n",
       "      <td>1.220000</td>\n",
       "    </tr>\n",
       "    <tr>\n",
       "      <th>50%</th>\n",
       "      <td>6.180000</td>\n",
       "      <td>58.000000</td>\n",
       "      <td>1.390000</td>\n",
       "    </tr>\n",
       "    <tr>\n",
       "      <th>75%</th>\n",
       "      <td>7.900000</td>\n",
       "      <td>73.000000</td>\n",
       "      <td>1.600000</td>\n",
       "    </tr>\n",
       "    <tr>\n",
       "      <th>max</th>\n",
       "      <td>14.110000</td>\n",
       "      <td>88.000000</td>\n",
       "      <td>1.900000</td>\n",
       "    </tr>\n",
       "  </tbody>\n",
       "</table>\n",
       "</div>"
      ],
      "text/plain": [
       "              wind  temperature  precipitation\n",
       "count  1665.000000  1665.000000    1665.000000\n",
       "mean      6.437532    58.425826       1.419712\n",
       "std       2.425967    16.672451       0.235775\n",
       "min       2.000000     5.000000       1.070000\n",
       "25%       4.700000    46.000000       1.220000\n",
       "50%       6.180000    58.000000       1.390000\n",
       "75%       7.900000    73.000000       1.600000\n",
       "max      14.110000    88.000000       1.900000"
      ]
     },
     "execution_count": 108,
     "metadata": {},
     "output_type": "execute_result"
    }
   ],
   "source": [
    "df = wrangle('weather.csv')\n",
    "df.describe()"
   ]
  },
  {
   "cell_type": "code",
   "execution_count": 56,
   "metadata": {},
   "outputs": [
    {
     "data": {
      "text/plain": [
       "Index(['wind', 'temperature', 'precipitation'], dtype='object')"
      ]
     },
     "execution_count": 56,
     "metadata": {},
     "output_type": "execute_result"
    }
   ],
   "source": [
    "df.columns"
   ]
  },
  {
   "cell_type": "code",
   "execution_count": 57,
   "metadata": {},
   "outputs": [],
   "source": [
    "#Is there a relationship between wind speed and precipitation? is precipitation dependent on wind speed\n"
   ]
  },
  {
   "cell_type": "code",
   "execution_count": 109,
   "metadata": {},
   "outputs": [
    {
     "data": {
      "image/png": "[encoded data removed]",
      "text/plain": [
       "<Figure size 800x500 with 1 Axes>"
      ]
     },
     "metadata": {},
     "output_type": "display_data"
    }
   ],
   "source": [
    "#visualize variables with boxplot\n",
    "def plot_box(file):\n",
    "    #get columns\n",
    "    cols = file.columns\n",
    "    #set fig size\n",
    "    fig, ax = plt.subplots(figsize=(8,5))\n",
    "    #loop through columns\n",
    "    ax.boxplot([file[col] for col in cols], vert=False, tick_labels=file.columns)\n",
    "    #ax.set_xlabel(df[col].name)\n",
    "    ax.set_title('Boxplot of All Columns')\n",
    "    #show figure\n",
    "    plt.show();\n",
    "\n",
    "#call figure\n",
    "figure = plot_box(df)"
   ]
  },
  {
   "cell_type": "code",
   "execution_count": 59,
   "metadata": {},
   "outputs": [
    {
     "data": {
      "text/html": [
       "<div>\n",
       "<style scoped>\n",
       "    .dataframe tbody tr th:only-of-type {\n",
       "        vertical-align: middle;\n",
       "    }\n",
       "\n",
       "    .dataframe tbody tr th {\n",
       "        vertical-align: top;\n",
       "    }\n",
       "\n",
       "    .dataframe thead th {\n",
       "        text-align: right;\n",
       "    }\n",
       "</style>\n",
       "<table border=\"1\" class=\"dataframe\">\n",
       "  <thead>\n",
       "    <tr style=\"text-align: right;\">\n",
       "      <th></th>\n",
       "      <th>wind</th>\n",
       "      <th>temperature</th>\n",
       "      <th>precipitation</th>\n",
       "    </tr>\n",
       "  </thead>\n",
       "  <tbody>\n",
       "    <tr>\n",
       "      <th>count</th>\n",
       "      <td>15412.000000</td>\n",
       "      <td>15412.000000</td>\n",
       "      <td>15412.000000</td>\n",
       "    </tr>\n",
       "    <tr>\n",
       "      <th>mean</th>\n",
       "      <td>6.396775</td>\n",
       "      <td>56.391513</td>\n",
       "      <td>0.592988</td>\n",
       "    </tr>\n",
       "    <tr>\n",
       "      <th>std</th>\n",
       "      <td>2.617540</td>\n",
       "      <td>18.404657</td>\n",
       "      <td>0.995989</td>\n",
       "    </tr>\n",
       "    <tr>\n",
       "      <th>min</th>\n",
       "      <td>2.000000</td>\n",
       "      <td>-21.000000</td>\n",
       "      <td>0.000000</td>\n",
       "    </tr>\n",
       "    <tr>\n",
       "      <th>25%</th>\n",
       "      <td>4.380000</td>\n",
       "      <td>44.000000</td>\n",
       "      <td>0.010000</td>\n",
       "    </tr>\n",
       "    <tr>\n",
       "      <th>50%</th>\n",
       "      <td>6.080000</td>\n",
       "      <td>58.000000</td>\n",
       "      <td>0.210000</td>\n",
       "    </tr>\n",
       "    <tr>\n",
       "      <th>75%</th>\n",
       "      <td>8.080000</td>\n",
       "      <td>71.000000</td>\n",
       "      <td>0.770000</td>\n",
       "    </tr>\n",
       "    <tr>\n",
       "      <th>max</th>\n",
       "      <td>14.220000</td>\n",
       "      <td>100.000000</td>\n",
       "      <td>20.890000</td>\n",
       "    </tr>\n",
       "  </tbody>\n",
       "</table>\n",
       "</div>"
      ],
      "text/plain": [
       "               wind   temperature  precipitation\n",
       "count  15412.000000  15412.000000   15412.000000\n",
       "mean       6.396775     56.391513       0.592988\n",
       "std        2.617540     18.404657       0.995989\n",
       "min        2.000000    -21.000000       0.000000\n",
       "25%        4.380000     44.000000       0.010000\n",
       "50%        6.080000     58.000000       0.210000\n",
       "75%        8.080000     71.000000       0.770000\n",
       "max       14.220000    100.000000      20.890000"
      ]
     },
     "execution_count": 59,
     "metadata": {},
     "output_type": "execute_result"
    }
   ],
   "source": [
    "df.describe()"
   ]
  },
  {
   "cell_type": "code",
   "execution_count": 101,
   "metadata": {},
   "outputs": [
    {
     "data": {
      "text/plain": [
       "1.91"
      ]
     },
     "execution_count": 101,
     "metadata": {},
     "output_type": "execute_result"
    }
   ],
   "source": [
    "outl=df['precipitation'].quantile(0.923)\n",
    "outl"
   ]
  },
  {
   "cell_type": "code",
   "execution_count": 83,
   "metadata": {},
   "outputs": [
    {
     "data": {
      "text/plain": [
       "0.76"
      ]
     },
     "execution_count": 83,
     "metadata": {},
     "output_type": "execute_result"
    }
   ],
   "source": [
    "iqr =(df['precipitation'].quantile(0.75) - df['precipitation'].quantile(0.25))\n",
    "iqr"
   ]
  },
  {
   "cell_type": "code",
   "execution_count": 84,
   "metadata": {},
   "outputs": [
    {
     "name": "stdout",
     "output_type": "stream",
     "text": [
      "1.9100000000000001\n",
      "1.1300000000000001\n"
     ]
    }
   ],
   "source": [
    "lim=(iqr*1.5)\n",
    "up =lim + df['precipitation'].quantile(0.75)\n",
    "lowp= lim-df['precipitation'].quantile(0.25)\n",
    "print(up)\n",
    "print(lowp)"
   ]
  },
  {
   "cell_type": "code",
   "execution_count": 63,
   "metadata": {},
   "outputs": [
    {
     "data": {
      "text/plain": [
       "count    15412.000000\n",
       "mean         6.396775\n",
       "std          2.617540\n",
       "min          2.000000\n",
       "25%          4.380000\n",
       "50%          6.080000\n",
       "75%          8.080000\n",
       "max         14.220000\n",
       "Name: wind, dtype: float64"
      ]
     },
     "execution_count": 63,
     "metadata": {},
     "output_type": "execute_result"
    }
   ],
   "source": [
    "df['wind'].describe()"
   ]
  },
  {
   "cell_type": "code",
   "execution_count": 64,
   "metadata": {},
   "outputs": [
    {
     "data": {
      "text/plain": [
       "6.396774591227615"
      ]
     },
     "execution_count": 64,
     "metadata": {},
     "output_type": "execute_result"
    }
   ],
   "source": [
    "df['wind'].describe()['mean']"
   ]
  }
 ],
 "metadata": {
  "kernelspec": {
   "display_name": "Python 3",
   "language": "python",
   "name": "python3"
  },
  "language_info": {
   "codemirror_mode": {
    "name": "ipython",
    "version": 3
   },
   "file_extension": ".py",
   "mimetype": "text/x-python",
   "name": "python",
   "nbconvert_exporter": "python",
   "pygments_lexer": "ipython3",
   "version": "3.10.12"
  }
 },
 "nbformat": 4,
 "nbformat_minor": 2
}
