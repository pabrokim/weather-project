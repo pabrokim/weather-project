{
 "cells": [
  {
   "cell_type": "code",
   "execution_count": 9,
   "metadata": {},
   "outputs": [],
   "source": [
    "import pandas as pd\n",
    "import matplotlib.pyplot as plt"
   ]
  },
  {
   "cell_type": "code",
   "execution_count": 2,
   "metadata": {},
   "outputs": [],
   "source": [
    "def wrangle(file):\n",
    "    try:\n",
    "        #read file into dataframe\n",
    "        df = pd.read_csv(file)\n",
    "        #collinear and high_cardinal features\n",
    "        cols_to_drop = ['Data.Temperature.Max Temp', 'Data.Temperature.Min Temp', 'Data.Wind.Direction','Date.Month', 'Date.Week of', 'Date.Year']\n",
    "        #drop collinear and high_cardinal features\n",
    "        df.drop(columns=[col for col in cols_to_drop if col in df.columns], inplace=True)\n",
    "        #drop categorical features\n",
    "        df.drop(columns=(df.select_dtypes('object').columns), inplace=True)  \n",
    "        #rename columns for readability\n",
    "        column_dict = {\n",
    "            'Data.Precipitation':'Precipitation',\n",
    "            'Data.Temperature.Avg Temp': 'Temperature',\n",
    "            'Data.Wind.Speed': 'Wind'\n",
    "        } \n",
    "\n",
    "        df.rename(columns=column_dict, inplace=True)\n",
    "        #reorder columns\n",
    "        df = df[['Wind', 'Temperature', 'Precipitation']]\n",
    "\n",
    "\n",
    "        return df\n",
    "    except FileNotFoundError:\n",
    "        print(f\"Error: The file '{file}' was not found.\")"
   ]
  },
  {
   "cell_type": "code",
   "execution_count": 3,
   "metadata": {},
   "outputs": [
    {
     "name": "stdout",
     "output_type": "stream",
     "text": [
      "<class 'pandas.core.frame.DataFrame'>\n",
      "RangeIndex: 16743 entries, 0 to 16742\n",
      "Data columns (total 3 columns):\n",
      " #   Column         Non-Null Count  Dtype  \n",
      "---  ------         --------------  -----  \n",
      " 0   Wind           16743 non-null  float64\n",
      " 1   Temperature    16743 non-null  int64  \n",
      " 2   Precipitation  16743 non-null  float64\n",
      "dtypes: float64(2), int64(1)\n",
      "memory usage: 392.5 KB\n"
     ]
    }
   ],
   "source": [
    "df = wrangle('weather.csv')\n",
    "df.info()"
   ]
  },
  {
   "cell_type": "code",
   "execution_count": 14,
   "metadata": {},
   "outputs": [
    {
     "data": {
      "image/png": "[encoded data removed]",
      "text/plain": [
       "<Figure size 640x480 with 1 Axes>"
      ]
     },
     "metadata": {},
     "output_type": "display_data"
    }
   ],
   "source": [
    "def plot_graph(datafile)\n",
    "    for col in datafile.columns:\n",
    "        df['col'].plot(kind='box', vert=False)\n",
    "        "
   ]
  },
  {
   "cell_type": "code",
   "execution_count": 4,
   "metadata": {},
   "outputs": [],
   "source": [
    "#Is there a relationship between wind speed and precipitation? is precipitation dependent on wind speed\n"
   ]
  },
  {
   "cell_type": "code",
   "execution_count": null,
   "metadata": {},
   "outputs": [],
   "source": []
  }
 ],
 "metadata": {
  "kernelspec": {
   "display_name": "Python 3",
   "language": "python",
   "name": "python3"
  },
  "language_info": {
   "codemirror_mode": {
    "name": "ipython",
    "version": 3
   },
   "file_extension": ".py",
   "mimetype": "text/x-python",
   "name": "python",
   "nbconvert_exporter": "python",
   "pygments_lexer": "ipython3",
   "version": "3.10.12"
  }
 },
 "nbformat": 4,
 "nbformat_minor": 2
}
