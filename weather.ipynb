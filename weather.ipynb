{
 "cells": [
  {
   "cell_type": "code",
   "execution_count": 2,
   "metadata": {},
   "outputs": [],
   "source": [
    "import pandas as pd\n",
    "import matplotlib.pyplot as plt"
   ]
  },
  {
   "cell_type": "code",
   "execution_count": 3,
   "metadata": {},
   "outputs": [],
   "source": [
    "def wrangle(file):\n",
    "    try:\n",
    "        #read file into dataframe\n",
    "        df = pd.read_csv(file)\n",
    "        #collinear and high_cardinal features\n",
    "        cols_to_drop = ['Data.Temperature.Max Temp', 'Data.Temperature.Min Temp', 'Data.Wind.Direction','Date.Month', 'Date.Week of', 'Date.Year']\n",
    "        #drop collinear and high_cardinal features\n",
    "        df.drop(columns=[col for col in cols_to_drop if col in df.columns], inplace=True)\n",
    "        #drop categorical features\n",
    "        df.drop(columns=(df.select_dtypes('object').columns), inplace=True)  \n",
    "        #rename columns for readability\n",
    "        column_dict = {\n",
    "            'Data.Precipitation':'Precipitation',\n",
    "            'Data.Temperature.Avg Temp': 'Temperature',\n",
    "            'Data.Wind.Speed': 'Wind'\n",
    "        } \n",
    "\n",
    "        df.rename(columns=column_dict, inplace=True)\n",
    "        #reorder columns\n",
    "        df = df[['Wind', 'Temperature', 'Precipitation']]\n",
    "\n",
    "\n",
    "        return df\n",
    "        \n",
    "    except FileNotFoundError:\n",
    "        print(f\"Error: The file '{file}' was not found.\")"
   ]
  },
  {
   "cell_type": "code",
   "execution_count": 4,
   "metadata": {},
   "outputs": [
    {
     "name": "stdout",
     "output_type": "stream",
     "text": [
      "<class 'pandas.core.frame.DataFrame'>\n",
      "RangeIndex: 16743 entries, 0 to 16742\n",
      "Data columns (total 3 columns):\n",
      " #   Column         Non-Null Count  Dtype  \n",
      "---  ------         --------------  -----  \n",
      " 0   Wind           16743 non-null  float64\n",
      " 1   Temperature    16743 non-null  int64  \n",
      " 2   Precipitation  16743 non-null  float64\n",
      "dtypes: float64(2), int64(1)\n",
      "memory usage: 392.5 KB\n"
     ]
    }
   ],
   "source": [
    "df = wrangle('weather.csv')\n",
    "df.info()"
   ]
  },
  {
   "cell_type": "code",
   "execution_count": 5,
   "metadata": {},
   "outputs": [
    {
     "data": {
      "text/plain": [
       "Index(['Wind', 'Temperature', 'Precipitation'], dtype='object')"
      ]
     },
     "execution_count": 5,
     "metadata": {},
     "output_type": "execute_result"
    }
   ],
   "source": [
    "df.columns"
   ]
  },
  {
   "cell_type": "code",
   "execution_count": 7,
   "metadata": {},
   "outputs": [],
   "source": [
    "#Is there a relationship between wind speed and precipitation? is precipitation dependent on wind speed\n"
   ]
  },
  {
   "cell_type": "code",
   "execution_count": 48,
   "metadata": {},
   "outputs": [
    {
     "data": {
      "image/png": "[encoded data removed]",
      "text/plain": [
       "<Figure size 800x500 with 1 Axes>"
      ]
     },
     "metadata": {},
     "output_type": "display_data"
    }
   ],
   "source": [
    "#visualize variables with boxplot\n",
    "def plot_box(file):\n",
    "    #get columns\n",
    "    cols = file.columns\n",
    "    #set fig size\n",
    "    fig, ax = plt.subplots(figsize=(8,5))\n",
    "    #loop through columns\n",
    "    ax.boxplot([file[col] for col in cols], vert=False, tick_labels=file.columns)\n",
    "    #ax.set_xlabel(df[col].name)\n",
    "    ax.set_title('Boxplot of All Columns')\n",
    "    #show figure\n",
    "    plt.show();\n",
    "\n",
    "#call figure\n",
    "figure = plot_box(df)"
   ]
  },
  {
   "cell_type": "code",
   "execution_count": 49,
   "metadata": {},
   "outputs": [
    {
     "data": {
      "text/html": [
       "<div>\n",
       "<style scoped>\n",
       "    .dataframe tbody tr th:only-of-type {\n",
       "        vertical-align: middle;\n",
       "    }\n",
       "\n",
       "    .dataframe tbody tr th {\n",
       "        vertical-align: top;\n",
       "    }\n",
       "\n",
       "    .dataframe thead th {\n",
       "        text-align: right;\n",
       "    }\n",
       "</style>\n",
       "<table border=\"1\" class=\"dataframe\">\n",
       "  <thead>\n",
       "    <tr style=\"text-align: right;\">\n",
       "      <th></th>\n",
       "      <th>Wind</th>\n",
       "      <th>Temperature</th>\n",
       "      <th>Precipitation</th>\n",
       "    </tr>\n",
       "  </thead>\n",
       "  <tbody>\n",
       "    <tr>\n",
       "      <th>count</th>\n",
       "      <td>16743.000000</td>\n",
       "      <td>16743.000000</td>\n",
       "      <td>16743.000000</td>\n",
       "    </tr>\n",
       "    <tr>\n",
       "      <th>mean</th>\n",
       "      <td>6.329820</td>\n",
       "      <td>56.089112</td>\n",
       "      <td>0.579090</td>\n",
       "    </tr>\n",
       "    <tr>\n",
       "      <th>std</th>\n",
       "      <td>3.494785</td>\n",
       "      <td>18.798295</td>\n",
       "      <td>0.988057</td>\n",
       "    </tr>\n",
       "    <tr>\n",
       "      <th>min</th>\n",
       "      <td>0.000000</td>\n",
       "      <td>-27.000000</td>\n",
       "      <td>0.000000</td>\n",
       "    </tr>\n",
       "    <tr>\n",
       "      <th>25%</th>\n",
       "      <td>4.040000</td>\n",
       "      <td>44.000000</td>\n",
       "      <td>0.000000</td>\n",
       "    </tr>\n",
       "    <tr>\n",
       "      <th>50%</th>\n",
       "      <td>5.940000</td>\n",
       "      <td>58.000000</td>\n",
       "      <td>0.190000</td>\n",
       "    </tr>\n",
       "    <tr>\n",
       "      <th>75%</th>\n",
       "      <td>8.080000</td>\n",
       "      <td>71.000000</td>\n",
       "      <td>0.750000</td>\n",
       "    </tr>\n",
       "    <tr>\n",
       "      <th>max</th>\n",
       "      <td>61.100000</td>\n",
       "      <td>100.000000</td>\n",
       "      <td>20.890000</td>\n",
       "    </tr>\n",
       "  </tbody>\n",
       "</table>\n",
       "</div>"
      ],
      "text/plain": [
       "               Wind   Temperature  Precipitation\n",
       "count  16743.000000  16743.000000   16743.000000\n",
       "mean       6.329820     56.089112       0.579090\n",
       "std        3.494785     18.798295       0.988057\n",
       "min        0.000000    -27.000000       0.000000\n",
       "25%        4.040000     44.000000       0.000000\n",
       "50%        5.940000     58.000000       0.190000\n",
       "75%        8.080000     71.000000       0.750000\n",
       "max       61.100000    100.000000      20.890000"
      ]
     },
     "execution_count": 49,
     "metadata": {},
     "output_type": "execute_result"
    }
   ],
   "source": [
    "df.describe()"
   ]
  },
  {
   "cell_type": "code",
   "execution_count": null,
   "metadata": {},
   "outputs": [],
   "source": []
  }
 ],
 "metadata": {
  "kernelspec": {
   "display_name": "Python 3",
   "language": "python",
   "name": "python3"
  },
  "language_info": {
   "codemirror_mode": {
    "name": "ipython",
    "version": 3
   },
   "file_extension": ".py",
   "mimetype": "text/x-python",
   "name": "python",
   "nbconvert_exporter": "python",
   "pygments_lexer": "ipython3",
   "version": "3.10.12"
  }
 },
 "nbformat": 4,
 "nbformat_minor": 2
}
